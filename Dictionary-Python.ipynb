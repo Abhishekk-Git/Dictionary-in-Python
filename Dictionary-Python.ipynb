{
 "cells": [
  {
   "attachments": {
    "image.png": {
     "image/png": "[encoded data removed]"
    }
   },
   "cell_type": "markdown",
   "id": "eda7cc4e",
   "metadata": {},
   "source": [
    "## Dictionary\n",
    "\n",
    "A Python dictionary is a collection of key:value pairs.\n",
    "\n",
    "- It is the mutable data-structure.\n",
    "- Keys must consist of just one element.\n",
    "- Value can be any type such as list, tuple, integer, etc.\n",
    "- keys are unique identifiers that are associated with each value.\n",
    "- Like list, dictionary are also dynamic that is it can grow and shrink as needed.\n",
    "- A dictionary can contain another dictionary. A dictionary can also contain a list, and vice versa.\n",
    "- Dictionary elements are accessed via keys.\n",
    "\n",
    "You can define a dictionary by enclosing a comma-separated list of key-value pairs in curly braces ({}). A colon (:) separates each key from its associated value.\n",
    "\n",
    "__syntax__: d = {<\"key1\">:<\"value\">, <\"key2\">:<\"value\">, <\"key3\">:<\"value\">........<\"keyn\">:<\"value\">}\n",
    "    \n",
    "![image.png](attachment:image.png)\n",
    "\n",
    "__Note__:The key in dictionary must be unique whereas the value can be repeat. The combination of one key value pair is called one item."
   ]
  },
  {
   "cell_type": "code",
   "execution_count": 2,
   "id": "39e60462",
   "metadata": {},
   "outputs": [
    {
     "name": "stdout",
     "output_type": "stream",
     "text": [
      "{}\n",
      "<class 'dict'>\n"
     ]
    }
   ],
   "source": [
    "# We can use curly bracket without any element to create the empty dictionary.\n",
    "d = {}\n",
    "print(d)         # printing the empty dictionary.\n",
    "print(type(d))   # type() function tells the datatype of the object."
   ]
  },
  {
   "cell_type": "code",
   "execution_count": 6,
   "id": "09c043d7",
   "metadata": {},
   "outputs": [
    {
     "name": "stdout",
     "output_type": "stream",
     "text": [
      "{'key1': 1, 'key2': 2, 'key3': 3}\n",
      "<class 'dict'>\n"
     ]
    }
   ],
   "source": [
    "# Enter the elements as key value pair and separate by comma inside the curly bracket to create the dictionary.\n",
    "d={\"key1\":1, \"key2\":2, \"key3\":3}         \n",
    "print(d)\n",
    "print(type(d))"
   ]
  },
  {
   "cell_type": "code",
   "execution_count": 11,
   "id": "5fdfd73c",
   "metadata": {},
   "outputs": [
    {
     "name": "stdout",
     "output_type": "stream",
     "text": [
      "{'Name': 'Broke', 'Age': 20, 'Course': 'DBDA', 'City': 'Mumbai'}\n",
      "<class 'dict'>\n"
     ]
    }
   ],
   "source": [
    "# We can use tuple to create the dictionary using dict() function. But note the value must be in pair.\n",
    "t=(\n",
    "    (\"Name\",\"Broke\"),\n",
    "   (\"Age\",20),\n",
    "   (\"Course\",\"DBDA\"),\n",
    "   (\"City\",\"Mumbai\")\n",
    "  )  \n",
    "d=dict(t)   # here, we are passing a pair of value inside the dict() function to create the dictionary.\n",
    "print(d)\n",
    "print(type(d))"
   ]
  },
  {
   "cell_type": "code",
   "execution_count": 12,
   "id": "553f19f7",
   "metadata": {},
   "outputs": [
    {
     "name": "stdout",
     "output_type": "stream",
     "text": [
      "{'Name': 'Broke', 'Age': 20, 'Course': 'DBDA', 'City': 'Mumbai'}\n",
      "<class 'dict'>\n"
     ]
    }
   ],
   "source": [
    "# We can use list to create the dictionary using dict() function. But note the value must be in pair.\n",
    "t=[\n",
    "    [\"Name\",\"Broke\"],\n",
    "   [\"Age\",20],\n",
    "   [\"Course\",\"DBDA\"],\n",
    "   [\"City\",\"Mumbai\"]\n",
    "] \n",
    "d=dict(t)   # here, we are passing a pair of value inside the dict() function to create the dictionary.\n",
    "print(d)\n",
    "print(type(d))"
   ]
  },
  {
   "cell_type": "code",
   "execution_count": 23,
   "id": "f25a12e5",
   "metadata": {},
   "outputs": [
    {
     "ename": "KeyError",
     "evalue": "0",
     "output_type": "error",
     "traceback": [
      "\u001b[1;31m---------------------------------------------------------------------------\u001b[0m",
      "\u001b[1;31mKeyError\u001b[0m                                  Traceback (most recent call last)",
      "Cell \u001b[1;32mIn[23], line 2\u001b[0m\n\u001b[0;32m      1\u001b[0m d\u001b[38;5;241m=\u001b[39m{\u001b[38;5;124m'\u001b[39m\u001b[38;5;124mName\u001b[39m\u001b[38;5;124m'\u001b[39m: \u001b[38;5;124m'\u001b[39m\u001b[38;5;124mBroke\u001b[39m\u001b[38;5;124m'\u001b[39m, \u001b[38;5;124m'\u001b[39m\u001b[38;5;124mAge\u001b[39m\u001b[38;5;124m'\u001b[39m: \u001b[38;5;241m20\u001b[39m, \u001b[38;5;124m'\u001b[39m\u001b[38;5;124mCourse\u001b[39m\u001b[38;5;124m'\u001b[39m: \u001b[38;5;124m'\u001b[39m\u001b[38;5;124mDBDA\u001b[39m\u001b[38;5;124m'\u001b[39m, \u001b[38;5;124m'\u001b[39m\u001b[38;5;124mCity\u001b[39m\u001b[38;5;124m'\u001b[39m: \u001b[38;5;124m'\u001b[39m\u001b[38;5;124mMumbai\u001b[39m\u001b[38;5;124m'\u001b[39m} \n\u001b[1;32m----> 2\u001b[0m \u001b[38;5;28mprint\u001b[39m(\u001b[43md\u001b[49m\u001b[43m[\u001b[49m\u001b[38;5;241;43m0\u001b[39;49m\u001b[43m]\u001b[49m)\n",
      "\u001b[1;31mKeyError\u001b[0m: 0"
     ]
    }
   ],
   "source": [
    "d={'Name': 'Broke', 'Age': 20, 'Course': 'DBDA', 'City': 'Mumbai'} \n",
    "print(d[0])    # Here we are trying to access the item using 0 index."
   ]
  },
  {
   "cell_type": "code",
   "execution_count": 24,
   "id": "3fb50ad3",
   "metadata": {},
   "outputs": [
    {
     "ename": "KeyError",
     "evalue": "'roll no'",
     "output_type": "error",
     "traceback": [
      "\u001b[1;31m---------------------------------------------------------------------------\u001b[0m",
      "\u001b[1;31mKeyError\u001b[0m                                  Traceback (most recent call last)",
      "Cell \u001b[1;32mIn[24], line 2\u001b[0m\n\u001b[0;32m      1\u001b[0m d\u001b[38;5;241m=\u001b[39m{\u001b[38;5;124m'\u001b[39m\u001b[38;5;124mName\u001b[39m\u001b[38;5;124m'\u001b[39m: \u001b[38;5;124m'\u001b[39m\u001b[38;5;124mBroke\u001b[39m\u001b[38;5;124m'\u001b[39m, \u001b[38;5;124m'\u001b[39m\u001b[38;5;124mAge\u001b[39m\u001b[38;5;124m'\u001b[39m: \u001b[38;5;241m20\u001b[39m, \u001b[38;5;124m'\u001b[39m\u001b[38;5;124mCourse\u001b[39m\u001b[38;5;124m'\u001b[39m: \u001b[38;5;124m'\u001b[39m\u001b[38;5;124mDBDA\u001b[39m\u001b[38;5;124m'\u001b[39m, \u001b[38;5;124m'\u001b[39m\u001b[38;5;124mCity\u001b[39m\u001b[38;5;124m'\u001b[39m: \u001b[38;5;124m'\u001b[39m\u001b[38;5;124mMumbai\u001b[39m\u001b[38;5;124m'\u001b[39m} \n\u001b[1;32m----> 2\u001b[0m \u001b[38;5;28mprint\u001b[39m(\u001b[43md\u001b[49m\u001b[43m[\u001b[49m\u001b[38;5;124;43m'\u001b[39;49m\u001b[38;5;124;43mroll no\u001b[39;49m\u001b[38;5;124;43m'\u001b[39;49m\u001b[43m]\u001b[49m)\n",
      "\u001b[1;31mKeyError\u001b[0m: 'roll no'"
     ]
    }
   ],
   "source": [
    "d={'Name': 'Broke', 'Age': 20, 'Course': 'DBDA', 'City': 'Mumbai'} \n",
    "print(d['roll no'])    # Here we are trying to access the item with that key that is not present."
   ]
  },
  {
   "cell_type": "markdown",
   "id": "c0810ede",
   "metadata": {},
   "source": [
    "You may have noticed that the interpreter raises the same exception, KeyError, when a dictionary is accessed with either an undefined key or by a numeric index:"
   ]
  },
  {
   "cell_type": "markdown",
   "id": "ee61b074",
   "metadata": {},
   "source": [
    "__Note__: Dictionary elements are not accessed by numerical index although they are ordered. A value is retrieved from a dictionary by specifying its corresponding key in square brackets []."
   ]
  },
  {
   "cell_type": "markdown",
   "id": "4829b1c6",
   "metadata": {},
   "source": [
    "## Accessing items from the dictionary."
   ]
  },
  {
   "cell_type": "code",
   "execution_count": 14,
   "id": "3deba6a5",
   "metadata": {},
   "outputs": [
    {
     "name": "stdout",
     "output_type": "stream",
     "text": [
      "Broke\n"
     ]
    }
   ],
   "source": [
    "d={'Name': 'Broke', 'Age': 20, 'Course': 'DBDA', 'City': 'Mumbai'} \n",
    "print(d['Name'])    # Here we are getting the value of the key 'Name'. We have to use key to access the value instead of index."
   ]
  },
  {
   "cell_type": "code",
   "execution_count": 15,
   "id": "1f0f3dd2",
   "metadata": {},
   "outputs": [
    {
     "name": "stdout",
     "output_type": "stream",
     "text": [
      "Mumbai\n"
     ]
    }
   ],
   "source": [
    "print(d['City'])"
   ]
  },
  {
   "cell_type": "markdown",
   "id": "1248edc0",
   "metadata": {},
   "source": [
    "## Adding the value to the dictionary."
   ]
  },
  {
   "cell_type": "code",
   "execution_count": 17,
   "id": "855b5a2c",
   "metadata": {},
   "outputs": [
    {
     "name": "stdout",
     "output_type": "stream",
     "text": [
      "{'Name': 'Broke', 'Age': 20, 'Course': 'DBDA', 'City': 'Mumbai', 'Phone': 8545657212}\n"
     ]
    }
   ],
   "source": [
    "d={'Name': 'Broke', 'Age': 20, 'Course': 'DBDA', 'City': 'Mumbai'} \n",
    "d['Phone'] =8545657212  # Here we have to just assign the value to a particular key using square bracket.\n",
    "print(d)    "
   ]
  },
  {
   "cell_type": "markdown",
   "id": "7547e181",
   "metadata": {},
   "source": [
    "## Updating/modifying the value in the dictionary."
   ]
  },
  {
   "cell_type": "code",
   "execution_count": 19,
   "id": "a635d8ea",
   "metadata": {},
   "outputs": [
    {
     "name": "stdout",
     "output_type": "stream",
     "text": [
      "{'Name': 'Kevin', 'Age': 20, 'Course': 'DBDA', 'City': 'Mumbai'}\n"
     ]
    }
   ],
   "source": [
    "d={'Name': 'Broke', 'Age': 20, 'Course': 'DBDA', 'City': 'Mumbai'} \n",
    "d['Name'] ='Kevin'  # Here we have to just pass the vaue to the particular key whose value need to change or modify\n",
    "print(d) \n",
    "\n",
    "# The value for the key \"Name\" change from \"Broke\" to \"Kevin\"."
   ]
  },
  {
   "cell_type": "code",
   "execution_count": 20,
   "id": "65008311",
   "metadata": {},
   "outputs": [
    {
     "name": "stdout",
     "output_type": "stream",
     "text": [
      "{'Name': 'Broke', 'Age': 20, 'Course': 'DAC', 'City': 'Mumbai'}\n"
     ]
    }
   ],
   "source": [
    "d={'Name': 'Broke', 'Age': 20, 'Course': 'DBDA', 'City': 'Mumbai'} \n",
    "d['Course'] ='DAC'\n",
    "print(d)\n",
    "# The value for the key \"Course\" change from \"DBDA\" to \"DAC\"."
   ]
  },
  {
   "cell_type": "markdown",
   "id": "d642ef50",
   "metadata": {},
   "source": [
    "__Note__: Python is a case sensitive language."
   ]
  },
  {
   "cell_type": "markdown",
   "id": "96a61270",
   "metadata": {},
   "source": [
    "## Removing elements from Dictionary\n",
    "We use the del statement to remove an element from the dictionary."
   ]
  },
  {
   "cell_type": "code",
   "execution_count": 22,
   "id": "527a8941",
   "metadata": {},
   "outputs": [
    {
     "name": "stdout",
     "output_type": "stream",
     "text": [
      "Before delete: {'Name': 'Broke', 'Age': 20, 'Course': 'DBDA', 'City': 'Mumbai'}\n",
      "Before delete: {'Name': 'Broke', 'Age': 20, 'Course': 'DBDA'}\n"
     ]
    }
   ],
   "source": [
    "d={'Name': 'Broke', 'Age': 20, 'Course': 'DBDA', 'City': 'Mumbai'} \n",
    "print(f'Before delete: {d}')\n",
    "del d['City']      # Here we are deleting the item \"City\":\"Mumbai\"\n",
    "print(f'Before delete: {d}')"
   ]
  },
  {
   "cell_type": "markdown",
   "id": "9be6b27a",
   "metadata": {},
   "source": [
    "The del statement removes the element associated with the key"
   ]
  },
  {
   "cell_type": "markdown",
   "id": "972c9c7d",
   "metadata": {},
   "source": [
    "## Nested dictionary"
   ]
  },
  {
   "cell_type": "code",
   "execution_count": 34,
   "id": "36b3ed57",
   "metadata": {},
   "outputs": [
    {
     "name": "stdout",
     "output_type": "stream",
     "text": [
      "{'Name': 'John', 'Age': 20, 'Siblings': ['Kevin', 'Gwen', 'Stacy'], 'Parents': ['Max', 'Kelly'], 'City': 'Mumbai'}\n",
      "---------------------\n",
      "John\n",
      "---------------------\n",
      "['Kevin', 'Gwen', 'Stacy']\n",
      "---------------------\n",
      "Stacy\n",
      "---------------------\n",
      "['Max', 'Kelly']\n"
     ]
    }
   ],
   "source": [
    "d={\n",
    "    'Name': 'John', \n",
    "    'Age': 20, \n",
    "    'Siblings': ['Kevin', 'Gwen', 'Stacy'],\n",
    "    'Parents':['Max', 'Kelly'],\n",
    "    'City': 'Mumbai'\n",
    "} \n",
    "print(d)\n",
    "print(\"---------------------\")\n",
    "print(d['Name'])\n",
    "print(\"---------------------\")\n",
    "print(d['Siblings'])    # Here we are accesing the list of siblings\n",
    "print(\"---------------------\")\n",
    "print(d['Siblings'][2])    # Here we are accesing the third elements in the sibling list\n",
    "print(\"---------------------\")\n",
    "print(d['Parents'])     # Here we are accesing the list of parents"
   ]
  },
  {
   "cell_type": "markdown",
   "id": "8df901f3",
   "metadata": {},
   "source": [
    "## Dictionary Built-in methods"
   ]
  },
  {
   "cell_type": "markdown",
   "id": "0b2e97bd",
   "metadata": {},
   "source": [
    "#### .clear() method\n",
    "\n",
    "__Syntax__: Dictionary.clear()\n",
    "\n",
    "This method clear the dictionary completely. It does not takes any argument."
   ]
  },
  {
   "cell_type": "code",
   "execution_count": 37,
   "id": "8cd59088",
   "metadata": {},
   "outputs": [
    {
     "name": "stdout",
     "output_type": "stream",
     "text": [
      "Before using the method, {'Name': 'Broke', 'Age': 20, 'Course': 'DBDA', 'City': 'Mumbai'}\n",
      "----------------------------------------\n",
      "Before using the method, {}\n"
     ]
    }
   ],
   "source": [
    "d={'Name': 'Broke', 'Age': 20, 'Course': 'DBDA', 'City': 'Mumbai'}\n",
    "print(f\"Before using the method, {d}\")\n",
    "print(\"----------------------------------------\")\n",
    "d.clear()   # Here, we are using the clear() method to remove all items from the dictionary d.\n",
    "print(f\"Before using the method, {d}\")"
   ]
  },
  {
   "cell_type": "markdown",
   "id": "0a2d5497",
   "metadata": {},
   "source": [
    "#### .get() method\n",
    "\n",
    "__Syntax__: Dictionary.get(key, value(optional))\n",
    "\n",
    "- key: The keyname of the item you want to return the value from (Required).\n",
    "- value: A value to return if the specified key does not exist (Optional). Default value None\n",
    "\n",
    "This method returns the value of the mentioned key."
   ]
  },
  {
   "cell_type": "code",
   "execution_count": 39,
   "id": "af001e77",
   "metadata": {},
   "outputs": [
    {
     "name": "stdout",
     "output_type": "stream",
     "text": [
      "Broke\n"
     ]
    }
   ],
   "source": [
    "d={'Name': 'Broke', 'Age': 20, 'Course': 'DBDA', 'City': 'Mumbai'}\n",
    "print(d.get('Name'))    # get() method return the indicated key. Here \"Name\" key is passed and the value \"Broke\" is returned."
   ]
  },
  {
   "cell_type": "code",
   "execution_count": 40,
   "id": "10f17ec3",
   "metadata": {},
   "outputs": [
    {
     "name": "stdout",
     "output_type": "stream",
     "text": [
      "20\n"
     ]
    }
   ],
   "source": [
    "d={'Name': 'Broke', 'Age': 20, 'Course': 'DBDA', 'City': 'Mumbai'}\n",
    "print(d.get('Age'))"
   ]
  },
  {
   "cell_type": "code",
   "execution_count": 42,
   "id": "56cdfaec",
   "metadata": {},
   "outputs": [
    {
     "name": "stdout",
     "output_type": "stream",
     "text": [
      "None\n"
     ]
    }
   ],
   "source": [
    "d={'Name': 'Broke', 'Age': 20, 'Course': 'DBDA', 'City': 'Mumbai'}\n",
    "print(d.get('Country'))    # Here \"Country\" key is passed which is not in the dictionary so None vaue is returned"
   ]
  },
  {
   "cell_type": "code",
   "execution_count": 43,
   "id": "41deaa79",
   "metadata": {},
   "outputs": [
    {
     "name": "stdout",
     "output_type": "stream",
     "text": [
      "India\n"
     ]
    }
   ],
   "source": [
    "d={'Name': 'Broke', 'Age': 20, 'Course': 'DBDA', 'City': 'Mumbai'}\n",
    "print(d.get('Country', 'India'))    # Here \"Country\" key is passed which is not in the dictionary so we also passed its value."
   ]
  },
  {
   "cell_type": "markdown",
   "id": "d87830bc",
   "metadata": {},
   "source": [
    "#### .items() method\n",
    "\n",
    "__Syntax__: Dictionary.items()\n",
    "\n",
    "This method returns the key-value pairs of the dictionary, as tuples in a list. It does not take any arguments."
   ]
  },
  {
   "cell_type": "code",
   "execution_count": 44,
   "id": "1727d55d",
   "metadata": {},
   "outputs": [
    {
     "name": "stdout",
     "output_type": "stream",
     "text": [
      "dict_items([('Name', 'Broke'), ('Age', 20), ('Course', 'DBDA'), ('City', 'Mumbai')])\n"
     ]
    }
   ],
   "source": [
    "d={'Name': 'Broke', 'Age': 20, 'Course': 'DBDA', 'City': 'Mumbai'}\n",
    "print(d.items())    # It returns all the key value pair."
   ]
  },
  {
   "cell_type": "code",
   "execution_count": 45,
   "id": "2da6ef77",
   "metadata": {},
   "outputs": [
    {
     "name": "stdout",
     "output_type": "stream",
     "text": [
      "[('Name', 'Broke'), ('Age', 20), ('Course', 'DBDA'), ('City', 'Mumbai')]\n"
     ]
    }
   ],
   "source": [
    "d={'Name': 'Broke', 'Age': 20, 'Course': 'DBDA', 'City': 'Mumbai'}\n",
    "print(list(d.items()))    \n",
    "# It returns all the key value pair inside a list. This means we can now use indexing to get a particular elements."
   ]
  },
  {
   "cell_type": "code",
   "execution_count": 46,
   "id": "a42899cf",
   "metadata": {},
   "outputs": [
    {
     "name": "stdout",
     "output_type": "stream",
     "text": [
      "('Course', 'DBDA')\n"
     ]
    }
   ],
   "source": [
    "d={'Name': 'Broke', 'Age': 20, 'Course': 'DBDA', 'City': 'Mumbai'}\n",
    "print(list(d.items())[2])    "
   ]
  },
  {
   "cell_type": "markdown",
   "id": "61c6de67",
   "metadata": {},
   "source": [
    "#### .keys() method\n",
    "\n",
    "__Syntax__: Dictionary.keys()\n",
    "\n",
    "This method returns list of all keys. It does not take any arguments."
   ]
  },
  {
   "cell_type": "code",
   "execution_count": 47,
   "id": "7616d2db",
   "metadata": {},
   "outputs": [
    {
     "name": "stdout",
     "output_type": "stream",
     "text": [
      "dict_keys(['Name', 'Age', 'Course', 'City'])\n"
     ]
    }
   ],
   "source": [
    "d={'Name': 'Broke', 'Age': 20, 'Course': 'DBDA', 'City': 'Mumbai'}\n",
    "print(d.keys()) \n",
    "# It returns all the keys in the dictionary."
   ]
  },
  {
   "cell_type": "code",
   "execution_count": 48,
   "id": "88d94bd8",
   "metadata": {},
   "outputs": [
    {
     "name": "stdout",
     "output_type": "stream",
     "text": [
      "['Name', 'Age', 'Course', 'City']\n"
     ]
    }
   ],
   "source": [
    "d={'Name': 'Broke', 'Age': 20, 'Course': 'DBDA', 'City': 'Mumbai'}\n",
    "print(list(d.keys())) "
   ]
  },
  {
   "cell_type": "markdown",
   "id": "ae0b7606",
   "metadata": {},
   "source": [
    "#### .values() method\n",
    "\n",
    "__Syntax__: Dictionary.values()\n",
    "\n",
    "This method returns list of all values in the list. It does not take any arguments."
   ]
  },
  {
   "cell_type": "code",
   "execution_count": 51,
   "id": "44c59215",
   "metadata": {},
   "outputs": [
    {
     "name": "stdout",
     "output_type": "stream",
     "text": [
      "dict_values(['Broke', 20, 'DBDA', 'Mumbai'])\n"
     ]
    }
   ],
   "source": [
    "d={'Name': 'Broke', 'Age': 20, 'Course': 'DBDA', 'City': 'Mumbai'}\n",
    "print(d.values()) \n",
    "# It returns all the values in the dictionary."
   ]
  },
  {
   "cell_type": "code",
   "execution_count": 52,
   "id": "8b8a0fce",
   "metadata": {},
   "outputs": [
    {
     "name": "stdout",
     "output_type": "stream",
     "text": [
      "['Broke', 20, 'DBDA', 'Mumbai']\n"
     ]
    }
   ],
   "source": [
    "d={'Name': 'Broke', 'Age': 20, 'Course': 'DBDA', 'City': 'Mumbai'}\n",
    "print(list(d.values())) \n",
    "# It returns all the values in the dictionary."
   ]
  },
  {
   "cell_type": "markdown",
   "id": "ff9907f3",
   "metadata": {},
   "source": [
    "#### .pop() method\n",
    "\n",
    "__Syntax__: Dictionary.pop()\n",
    "\n",
    "The pop() method removes the specified item from the dictionary. The value of the removed item is the return value of the pop() method."
   ]
  },
  {
   "cell_type": "code",
   "execution_count": 55,
   "id": "b38ca083",
   "metadata": {},
   "outputs": [
    {
     "name": "stdout",
     "output_type": "stream",
     "text": [
      "Before using the method, {'Name': 'Broke', 'Age': 20, 'Course': 'DBDA', 'City': 'Mumbai'}\n",
      "----------------------------------------\n",
      "Before using the method, {'Name': 'Broke', 'Course': 'DBDA', 'City': 'Mumbai'}\n"
     ]
    }
   ],
   "source": [
    "d={'Name': 'Broke', 'Age': 20, 'Course': 'DBDA', 'City': 'Mumbai'}\n",
    "print(f\"Before using the method, {d}\")\n",
    "print(\"----------------------------------------\")\n",
    "d.pop('Age')   # Here, we are using the pop() method to remove 'Age' key from the dictionary d.\n",
    "print(f\"Before using the method, {d}\")"
   ]
  },
  {
   "cell_type": "markdown",
   "id": "fb819e8c",
   "metadata": {},
   "source": [
    "#### .popitem() method\n",
    "\n",
    "__Syntax__: Dictionary.popitems()\n",
    "\n",
    "The popitem() method removes the item that was last inserted into the dictionary. The value of the removed item is the return value of the pop() method."
   ]
  },
  {
   "cell_type": "code",
   "execution_count": 57,
   "id": "703aea45",
   "metadata": {},
   "outputs": [
    {
     "name": "stdout",
     "output_type": "stream",
     "text": [
      "Before using the method, {'Name': 'Broke', 'Age': 20, 'Course': 'DBDA', 'City': 'Mumbai'}\n",
      "----------------------------------------\n",
      "Before using the method, {'Name': 'Broke', 'Age': 20, 'Course': 'DBDA'}\n"
     ]
    }
   ],
   "source": [
    "d={'Name': 'Broke', 'Age': 20, 'Course': 'DBDA', 'City': 'Mumbai'}\n",
    "print(f\"Before using the method, {d}\")\n",
    "print(\"----------------------------------------\")\n",
    "d.popitem()   # Here, we are using the pop() method to remove 'Age' key from the dictionary d.\n",
    "print(f\"Before using the method, {d}\")"
   ]
  },
  {
   "cell_type": "markdown",
   "id": "11026e08",
   "metadata": {},
   "source": [
    "__Note__: Here the last key-value pair removed from the dictionary. pop(key) remove a particuar key value pair from the dictionary whereas popitem() remove the last inserted key-vaue pair."
   ]
  },
  {
   "cell_type": "markdown",
   "id": "74550b99",
   "metadata": {},
   "source": [
    "#### .fromkeys() method\n",
    "\n",
    "__Syntax__: Dictionary.fromkeys(key, value)\n",
    "\n",
    "The fromkeys() method returns a dictionary with the specified keys and the specified value."
   ]
  },
  {
   "cell_type": "code",
   "execution_count": 58,
   "id": "20af0576",
   "metadata": {},
   "outputs": [
    {
     "name": "stdout",
     "output_type": "stream",
     "text": [
      "{'vit': None, 'srm': None, 'iitb': None, 'iit': None, 'nit': None}\n"
     ]
    }
   ],
   "source": [
    "collegename=['vit','srm','iitb','iit','nit']\n",
    "d={}\n",
    "d=d.fromkeys(collegename)\n",
    "print(d)\n",
    "# Here we passed the collegename list as a key into the .fromkeys() method whereas the value of the all keys will be None."
   ]
  },
  {
   "cell_type": "code",
   "execution_count": 60,
   "id": "4cf14a0f",
   "metadata": {},
   "outputs": [
    {
     "name": "stdout",
     "output_type": "stream",
     "text": [
      "{'vit': 100, 'srm': 100, 'iitb': 100, 'iit': 100, 'nit': 100}\n"
     ]
    }
   ],
   "source": [
    "collegename=['vit','srm','iitb','iit','nit']\n",
    "d={}\n",
    "d=d.fromkeys(collegename,100)\n",
    "print(d)\n",
    "# Here we passed the collegename list as a key into the .fromkeys() method whereas the value of the all keys will be 100."
   ]
  },
  {
   "cell_type": "markdown",
   "id": "e7d4d0f0",
   "metadata": {},
   "source": [
    "#### .update() method\n",
    "\n",
    "__Syntax__: Dictionary.update(iterable)\n",
    "\n",
    "The update() method inserts the specified items to the dictionary. The specified items can be a dictionary, or an iterable object with key value pairs."
   ]
  },
  {
   "cell_type": "code",
   "execution_count": 61,
   "id": "27c16982",
   "metadata": {},
   "outputs": [
    {
     "name": "stdout",
     "output_type": "stream",
     "text": [
      "{'c1': 100, 'c2': 600, 'c3': 700, 'c6': 800}\n"
     ]
    }
   ],
   "source": [
    "d1={\"c1\":100, \"c2\":200, \"c3\":300}\n",
    "d2={\"c2\":600, \"c3\":700, \"c6\":800}\n",
    "d1.update(d2)\n",
    "print(d1)\n",
    "# Here the value of c2 and c3 changes as per d2 dictionary. Also, c6 key value pair will be inserted in the d1 dictionary."
   ]
  },
  {
   "cell_type": "code",
   "execution_count": 62,
   "id": "8e069ff0",
   "metadata": {},
   "outputs": [
    {
     "name": "stdout",
     "output_type": "stream",
     "text": [
      "{'a': 10, 'b': 200, 'c': 30, 'd': 400}\n"
     ]
    }
   ],
   "source": [
    "d1 = {'a': 10, 'b': 20, 'c': 30}\n",
    "d1.update(b=200, d=400)\n",
    "print(d1)"
   ]
  },
  {
   "cell_type": "markdown",
   "id": "6c985535",
   "metadata": {},
   "source": [
    "#### .copy() method\n",
    "\n",
    "__Syntax__: Dictionary.copy()\n",
    "\n",
    "The copy() method returns a copy of the specified dictionary."
   ]
  },
  {
   "cell_type": "code",
   "execution_count": 63,
   "id": "e51fd5e4",
   "metadata": {},
   "outputs": [
    {
     "name": "stdout",
     "output_type": "stream",
     "text": [
      "{'Name': 'Broke', 'Age': 20, 'Course': 'DBDA', 'City': 'Mumbai'}\n"
     ]
    }
   ],
   "source": [
    "d={'Name': 'Broke', 'Age': 20, 'Course': 'DBDA', 'City': 'Mumbai'}\n",
    "x=d.copy()\n",
    "print(x)\n",
    "# .copy() method makes a shallow copy which means if we make change in the original dictionary then the copy dictionary will\n",
    "# not affect."
   ]
  },
  {
   "cell_type": "code",
   "execution_count": 64,
   "id": "0c5e78db",
   "metadata": {},
   "outputs": [
    {
     "name": "stdout",
     "output_type": "stream",
     "text": [
      "{'Name': 'Broke', 'Age': 20, 'Course': 'DBDA', 'City': 'Mumbai', 'Country': 'India'}\n",
      "{'Name': 'Broke', 'Age': 20, 'Course': 'DBDA', 'City': 'Mumbai'}\n"
     ]
    }
   ],
   "source": [
    "d['Country']='India'\n",
    "print(d)\n",
    "print(x)\n",
    "# Here you can see we added one more key value pair to dictionary d but there will no change in the dictionar x."
   ]
  },
  {
   "cell_type": "markdown",
   "id": "ce1ab60e",
   "metadata": {},
   "source": [
    "Click this link to learn more: 👉 https://github.com/Abhishekk-Git"
   ]
  }
 ],
 "metadata": {
  "kernelspec": {
   "display_name": "Python 3 (ipykernel)",
   "language": "python",
   "name": "python3"
  },
  "language_info": {
   "codemirror_mode": {
    "name": "ipython",
    "version": 3
   },
   "file_extension": ".py",
   "mimetype": "text/x-python",
   "name": "python",
   "nbconvert_exporter": "python",
   "pygments_lexer": "ipython3",
   "version": "3.10.9"
  }
 },
 "nbformat": 4,
 "nbformat_minor": 5
}
